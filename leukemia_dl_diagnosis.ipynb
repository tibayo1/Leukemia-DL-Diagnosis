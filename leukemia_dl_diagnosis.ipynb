{
  "nbformat": 4,
  "nbformat_minor": 0,
  "metadata": {
    "colab": {
      "name": "Untitled4.ipynb",
      "provenance": [],
      "authorship_tag": "ABX9TyMx4J6HaQzSWTcyVEdWI6Z0",
      "include_colab_link": true
    },
    "kernelspec": {
      "name": "python3",
      "display_name": "Python 3"
    }
  },
  "cells": [
    {
      "cell_type": "markdown",
      "metadata": {
        "id": "view-in-github",
        "colab_type": "text"
      },
      "source": [
        "<a href=\"https://colab.research.google.com/github/tibayo1/Leukemia-DL-Diagnosis/blob/master/leukemia_dl_diagnosis.ipynb\" target=\"_parent\"><img src=\"https://colab.research.google.com/assets/colab-badge.svg\" alt=\"Open In Colab\"/></a>"
      ]
    },
    {
      "cell_type": "markdown",
      "metadata": {
        "id": "QM4bb_0ovGdf",
        "colab_type": "text"
      },
      "source": [
        "# Details on the Project\n",
        "\n",
        "Journal: [Human-level recognition of blast cells in acute myeloid\n",
        "leukemia with convolutional neural networks](https://www.biorxiv.org/content/10.1101/564039v1.full.pdf)\n",
        "\n",
        "Datasets:  [RashaSalim Kaggle Datasets of Blood smear images for AML(Acute Myleoid Leukemia) Diagnosis](https://www.kaggle.com/rashasalim/blood-smear-images-for-aml-diagnosis)"
      ]
    }
  ]
}