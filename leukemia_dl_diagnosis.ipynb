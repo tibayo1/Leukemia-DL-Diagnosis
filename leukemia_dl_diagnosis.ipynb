{
  "nbformat": 4,
  "nbformat_minor": 0,
  "metadata": {
    "colab": {
      "name": "Untitled4.ipynb",
      "provenance": [],
      "toc_visible": true,
      "authorship_tag": "ABX9TyNmCF9GTX4fcPwjbLkXAUgf",
      "include_colab_link": true
    },
    "kernelspec": {
      "name": "python3",
      "display_name": "Python 3"
    },
    "accelerator": "GPU"
  },
  "cells": [
    {
      "cell_type": "markdown",
      "metadata": {
        "id": "view-in-github",
        "colab_type": "text"
      },
      "source": [
        "<a href=\"https://colab.research.google.com/github/tibayo1/Leukemia-DL-Diagnosis/blob/master/leukemia_dl_diagnosis.ipynb\" target=\"_parent\"><img src=\"https://colab.research.google.com/assets/colab-badge.svg\" alt=\"Open In Colab\"/></a>"
      ]
    },
    {
      "cell_type": "markdown",
      "metadata": {
        "id": "QM4bb_0ovGdf"
      },
      "source": [
        "# Details of the Project\n",
        "\n",
        "**Journal**: [Human-level recognition of blast cells in acute myeloid\n",
        "leukemia with convolutional neural networks](https://www.biorxiv.org/content/10.1101/564039v1.full.pdf)\n",
        "\n",
        "\n",
        "\n",
        "**Materials and Methods of Journal**:\n",
        "\n",
        "\n",
        "*   Peripheral blood smears were selected from 100 patients diagnosed with different subtypes of AML at the Laboratory of Leukemia Diagnostics at Munich University Hospital between 2014 and 2017, and smears from 100 patients found to exhibit no morphological features of hematological malignancies in the same time frame.\n",
        "*   The resulting digitised data consisted of multiresolution pyramidal images of a size of approximately 1 GB per scanned area of interest.\n",
        "\n",
        "*   For our image classification task, we used a ResNeXt CNN topology\n",
        "*   The network was trained for at least 20 epochs, which took a computing time of approximately 4 days on a Nvidia GeForce GTX TITAN X GPU.\n",
        "\n",
        "\n",
        "*   We adopted the network to input image dimensions of\n",
        "400 x 400 x 3 and retained the cardinality hyper-parameter at C = 32 \n",
        "*   We randomly divide the images contained in each class of our dataset in a test- and\n",
        "training group, where the training group contains approximately 80%, and the test group\n",
        "20% of the images\n",
        "\n",
        "\n",
        "*   Random rotational transformations of 0−359 degrees, as well as random horizontal and vertical ﬂips to the single-cell images in the dataset.\n",
        "\n",
        "*   In the end the data set was augmented in such a way that each class contained approximately 10,000 images for training.\n",
        "\n",
        "\n",
        "\n",
        "\n",
        "**Datasets**:  [RashaSalim Kaggle Datasets of Blood smear images for AML(Acute Myleoid Leukemia) Diagnosis](https://www.kaggle.com/rashasalim/blood-smear-images-for-aml-diagnosis)\n",
        "\n",
        "\n"
      ]
    },
    {
      "cell_type": "code",
      "metadata": {
        "id": "T2vuZBOhPLiP"
      },
      "source": [
        "import numpy as np\n",
        "import torch\n",
        "from torch import nn\n",
        "from torchvision import transforms, datasets, models\n",
        "import math\n",
        "from torch.utils.data.sampler import SubsetRandomSampler\n",
        "import torchvision as tv\n"
      ],
      "execution_count": 2,
      "outputs": []
    },
    {
      "cell_type": "code",
      "metadata": {
        "id": "JG0ASdYfHaci",
        "colab": {
          "base_uri": "https://localhost:8080/"
        },
        "outputId": "97d37c26-f59a-4950-ecad-134d74fdb5d4"
      },
      "source": [
        "!wget -x --load-cookies cookies.txt \"https://www.kaggle.com/rashasalim/blood-smear-images-for-aml-diagnosis\" -O data.zip\n",
        "!unzip data.zip`"
      ],
      "execution_count": 1,
      "outputs": [
        {
          "output_type": "stream",
          "text": [
            "Cannot open cookies file ‘cookies.txt’: No such file or directory\n",
            "--2020-12-04 23:53:56--  https://www.kaggle.com/rashasalim/blood-smear-images-for-aml-diagnosis\n",
            "Resolving www.kaggle.com (www.kaggle.com)... 35.244.233.98\n",
            "Connecting to www.kaggle.com (www.kaggle.com)|35.244.233.98|:443... connected.\n",
            "HTTP request sent, awaiting response... 200 OK\n",
            "Length: unspecified [text/html]\n",
            "Saving to: ‘data.zip’\n",
            "\n",
            "data.zip                [ <=>                ]  30.41K  --.-KB/s    in 0.07s   \n",
            "\n",
            "2020-12-04 23:53:56 (426 KB/s) - ‘data.zip’ saved [31142]\n",
            "\n",
            "/bin/bash: -c: line 0: unexpected EOF while looking for matching ``'\n",
            "/bin/bash: -c: line 1: syntax error: unexpected end of file\n"
          ],
          "name": "stdout"
        }
      ]
    }
  ]
}