{
  "nbformat": 4,
  "nbformat_minor": 0,
  "metadata": {
    "colab": {
      "name": "Untitled4.ipynb",
      "provenance": [],
      "authorship_tag": "ABX9TyOrKzhn+ombPR0+NmexeIdB",
      "include_colab_link": true
    },
    "kernelspec": {
      "name": "python3",
      "display_name": "Python 3"
    }
  },
  "cells": [
    {
      "cell_type": "markdown",
      "metadata": {
        "id": "view-in-github",
        "colab_type": "text"
      },
      "source": [
        "<a href=\"https://colab.research.google.com/github/tibayo1/Leukemia-DL-Diagnosis/blob/master/leukemia_dl_diagnosis.ipynb\" target=\"_parent\"><img src=\"https://colab.research.google.com/assets/colab-badge.svg\" alt=\"Open In Colab\"/></a>"
      ]
    },
    {
      "cell_type": "code",
      "metadata": {
        "id": "-6kvnzWwpRw8",
        "colab_type": "code",
        "colab": {}
      },
      "source": [
        "Journal: https://www.biorxiv.org/content/10.1101/564039v1.full.pdf\n",
        "Dataset: https://www.kaggle.com/rashasalim/blood-smear-images-for-aml-diagnosis\n"
      ],
      "execution_count": 0,
      "outputs": []
    }
  ]
}